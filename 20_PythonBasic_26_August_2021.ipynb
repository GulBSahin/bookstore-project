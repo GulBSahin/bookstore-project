{
  "nbformat": 4,
  "nbformat_minor": 5,
  "metadata": {
    "kernelspec": {
      "display_name": "Python 3",
      "language": "python",
      "name": "python3"
    },
    "language_info": {
      "codemirror_mode": {
        "name": "ipython",
        "version": 3
      },
      "file_extension": ".py",
      "mimetype": "text/x-python",
      "name": "python",
      "nbconvert_exporter": "python",
      "pygments_lexer": "ipython3",
      "version": "3.8.8"
    },
    "colab": {
      "name": "20_PythonBasic_26-August-2021.ipynb",
      "provenance": [],
      "collapsed_sections": [],
      "include_colab_link": true
    }
  },
  "cells": [
    {
      "cell_type": "markdown",
      "metadata": {
        "id": "view-in-github",
        "colab_type": "text"
      },
      "source": [
        "<a href=\"https://colab.research.google.com/github/GulBSahin/bookstore-project/blob/main/20_PythonBasic_26_August_2021.ipynb\" target=\"_parent\"><img src=\"https://colab.research.google.com/assets/colab-badge.svg\" alt=\"Open In Colab\"/></a>"
      ]
    },
    {
      "cell_type": "markdown",
      "metadata": {
        "id": "22263af8"
      },
      "source": [
        "<h1><p style=\"text-align: center; color:darkblue\">Python + In-Class, <br>26 August 2021</p><h1>"
      ],
      "id": "22263af8"
    },
    {
      "cell_type": "code",
      "metadata": {
        "id": "e2741c23",
        "outputId": "dae67534-62a7-4c94-e769-46d43550d3a5"
      },
      "source": [
        "print()\n",
        "print(\"hello\"\n",
        "5"
      ],
      "id": "e2741c23",
      "execution_count": null,
      "outputs": [
        {
          "ename": "SyntaxError",
          "evalue": "invalid syntax (<ipython-input-2-077dde3a6a7b>, line 3)",
          "output_type": "error",
          "traceback": [
            "\u001b[0;36m  File \u001b[0;32m\"<ipython-input-2-077dde3a6a7b>\"\u001b[0;36m, line \u001b[0;32m3\u001b[0m\n\u001b[0;31m    5\u001b[0m\n\u001b[0m    ^\u001b[0m\n\u001b[0;31mSyntaxError\u001b[0m\u001b[0;31m:\u001b[0m invalid syntax\n"
          ]
        }
      ]
    },
    {
      "cell_type": "code",
      "metadata": {
        "id": "73aa4c83",
        "outputId": "0eec1544-a4a8-4aa5-f653-8aa1da15dbe1"
      },
      "source": [
        "int(\"on\")"
      ],
      "id": "73aa4c83",
      "execution_count": null,
      "outputs": [
        {
          "ename": "ValueError",
          "evalue": "invalid literal for int() with base 10: 'on'",
          "output_type": "error",
          "traceback": [
            "\u001b[0;31m---------------------------------------------------------------------------\u001b[0m",
            "\u001b[0;31mValueError\u001b[0m                                Traceback (most recent call last)",
            "\u001b[0;32m<ipython-input-3-9db2c1f25cfb>\u001b[0m in \u001b[0;36m<module>\u001b[0;34m\u001b[0m\n\u001b[0;32m----> 1\u001b[0;31m \u001b[0mint\u001b[0m\u001b[0;34m(\u001b[0m\u001b[0;34m\"on\"\u001b[0m\u001b[0;34m)\u001b[0m\u001b[0;34m\u001b[0m\u001b[0;34m\u001b[0m\u001b[0m\n\u001b[0m",
            "\u001b[0;31mValueError\u001b[0m: invalid literal for int() with base 10: 'on'"
          ]
        }
      ]
    },
    {
      "cell_type": "code",
      "metadata": {
        "id": "51a07f6f",
        "outputId": "756019e5-607c-4d72-da5e-b1f0cedbc9ee"
      },
      "source": [
        "int(\"10\")"
      ],
      "id": "51a07f6f",
      "execution_count": null,
      "outputs": [
        {
          "data": {
            "text/plain": [
              "10"
            ]
          },
          "execution_count": 4,
          "metadata": {},
          "output_type": "execute_result"
        }
      ]
    },
    {
      "cell_type": "code",
      "metadata": {
        "id": "e9fdfb60"
      },
      "source": [
        "import math"
      ],
      "id": "e9fdfb60",
      "execution_count": null,
      "outputs": []
    },
    {
      "cell_type": "code",
      "metadata": {
        "id": "6adcfd06",
        "outputId": "40a2f6ff-59e6-48cb-8e18-4a8f9290edd0"
      },
      "source": [
        "math.sqrt(-25)"
      ],
      "id": "6adcfd06",
      "execution_count": null,
      "outputs": [
        {
          "ename": "ValueError",
          "evalue": "math domain error",
          "output_type": "error",
          "traceback": [
            "\u001b[0;31m---------------------------------------------------------------------------\u001b[0m",
            "\u001b[0;31mValueError\u001b[0m                                Traceback (most recent call last)",
            "\u001b[0;32m<ipython-input-6-d80dea1ee982>\u001b[0m in \u001b[0;36m<module>\u001b[0;34m\u001b[0m\n\u001b[0;32m----> 1\u001b[0;31m \u001b[0mmath\u001b[0m\u001b[0;34m.\u001b[0m\u001b[0msqrt\u001b[0m\u001b[0;34m(\u001b[0m\u001b[0;34m-\u001b[0m\u001b[0;36m25\u001b[0m\u001b[0;34m)\u001b[0m\u001b[0;34m\u001b[0m\u001b[0;34m\u001b[0m\u001b[0m\n\u001b[0m",
            "\u001b[0;31mValueError\u001b[0m: math domain error"
          ]
        }
      ]
    },
    {
      "cell_type": "code",
      "metadata": {
        "id": "579a43db",
        "outputId": "d2d601b3-6792-47b8-c8b2-7a21132a40aa"
      },
      "source": [
        "math.factorial(-4)"
      ],
      "id": "579a43db",
      "execution_count": null,
      "outputs": [
        {
          "ename": "ValueError",
          "evalue": "factorial() not defined for negative values",
          "output_type": "error",
          "traceback": [
            "\u001b[0;31m---------------------------------------------------------------------------\u001b[0m",
            "\u001b[0;31mValueError\u001b[0m                                Traceback (most recent call last)",
            "\u001b[0;32m<ipython-input-7-001ef41ec39f>\u001b[0m in \u001b[0;36m<module>\u001b[0;34m\u001b[0m\n\u001b[0;32m----> 1\u001b[0;31m \u001b[0mmath\u001b[0m\u001b[0;34m.\u001b[0m\u001b[0mfactorial\u001b[0m\u001b[0;34m(\u001b[0m\u001b[0;34m-\u001b[0m\u001b[0;36m4\u001b[0m\u001b[0;34m)\u001b[0m\u001b[0;34m\u001b[0m\u001b[0;34m\u001b[0m\u001b[0m\n\u001b[0m",
            "\u001b[0;31mValueError\u001b[0m: factorial() not defined for negative values"
          ]
        }
      ]
    },
    {
      "cell_type": "code",
      "metadata": {
        "id": "15bb8a20",
        "outputId": "a1a1ddc3-91ec-45e0-f269-d9e5a7e2deb2"
      },
      "source": [
        "printt()"
      ],
      "id": "15bb8a20",
      "execution_count": null,
      "outputs": [
        {
          "ename": "NameError",
          "evalue": "name 'printt' is not defined",
          "output_type": "error",
          "traceback": [
            "\u001b[0;31m---------------------------------------------------------------------------\u001b[0m",
            "\u001b[0;31mNameError\u001b[0m                                 Traceback (most recent call last)",
            "\u001b[0;32m<ipython-input-8-170c3a814236>\u001b[0m in \u001b[0;36m<module>\u001b[0;34m\u001b[0m\n\u001b[0;32m----> 1\u001b[0;31m \u001b[0mprintt\u001b[0m\u001b[0;34m(\u001b[0m\u001b[0;34m)\u001b[0m\u001b[0;34m\u001b[0m\u001b[0;34m\u001b[0m\u001b[0m\n\u001b[0m",
            "\u001b[0;31mNameError\u001b[0m: name 'printt' is not defined"
          ]
        }
      ]
    },
    {
      "cell_type": "code",
      "metadata": {
        "id": "2031668c"
      },
      "source": [
        "def printt() :\n",
        "    print(\"hataların en kolayıyım.\")"
      ],
      "id": "2031668c",
      "execution_count": null,
      "outputs": []
    },
    {
      "cell_type": "code",
      "metadata": {
        "id": "ce7dc564",
        "outputId": "02e5cf16-73db-407f-82c4-81bfba61522c"
      },
      "source": [
        "printt"
      ],
      "id": "ce7dc564",
      "execution_count": null,
      "outputs": [
        {
          "data": {
            "text/plain": [
              "<function __main__.printt()>"
            ]
          },
          "execution_count": 10,
          "metadata": {},
          "output_type": "execute_result"
        }
      ]
    },
    {
      "cell_type": "code",
      "metadata": {
        "id": "0278aab2",
        "outputId": "fb1501f9-35aa-47b7-cf37-0bb8284518d7"
      },
      "source": [
        "printt()"
      ],
      "id": "0278aab2",
      "execution_count": null,
      "outputs": [
        {
          "name": "stdout",
          "output_type": "stream",
          "text": [
            "hataların en kolayıyım.\n"
          ]
        }
      ]
    },
    {
      "cell_type": "code",
      "metadata": {
        "id": "b8765e57"
      },
      "source": [
        "range()"
      ],
      "id": "b8765e57",
      "execution_count": null,
      "outputs": []
    },
    {
      "cell_type": "code",
      "metadata": {
        "id": "b6c13ffc",
        "outputId": "ee240e54-6952-4015-f2a2-6043e6138ec6"
      },
      "source": [
        "int()\n",
        "str()\n",
        "bool(type())"
      ],
      "id": "b6c13ffc",
      "execution_count": null,
      "outputs": [
        {
          "ename": "TypeError",
          "evalue": "type() takes 1 or 3 arguments",
          "output_type": "error",
          "traceback": [
            "\u001b[0;31m---------------------------------------------------------------------------\u001b[0m",
            "\u001b[0;31mTypeError\u001b[0m                                 Traceback (most recent call last)",
            "\u001b[0;32m<ipython-input-12-58d58ce49b68>\u001b[0m in \u001b[0;36m<module>\u001b[0;34m\u001b[0m\n\u001b[1;32m      1\u001b[0m \u001b[0mint\u001b[0m\u001b[0;34m(\u001b[0m\u001b[0;34m)\u001b[0m\u001b[0;34m\u001b[0m\u001b[0;34m\u001b[0m\u001b[0m\n\u001b[1;32m      2\u001b[0m \u001b[0mstr\u001b[0m\u001b[0;34m(\u001b[0m\u001b[0;34m)\u001b[0m\u001b[0;34m\u001b[0m\u001b[0;34m\u001b[0m\u001b[0m\n\u001b[0;32m----> 3\u001b[0;31m \u001b[0mbool\u001b[0m\u001b[0;34m(\u001b[0m\u001b[0mtype\u001b[0m\u001b[0;34m(\u001b[0m\u001b[0;34m)\u001b[0m\u001b[0;34m)\u001b[0m\u001b[0;34m\u001b[0m\u001b[0;34m\u001b[0m\u001b[0m\n\u001b[0m",
            "\u001b[0;31mTypeError\u001b[0m: type() takes 1 or 3 arguments"
          ]
        }
      ]
    },
    {
      "cell_type": "code",
      "metadata": {
        "id": "0cd818a8",
        "outputId": "3e99f29e-4806-4887-c58b-7664213bcf51"
      },
      "source": [
        "range(\"5\")"
      ],
      "id": "0cd818a8",
      "execution_count": null,
      "outputs": [
        {
          "ename": "TypeError",
          "evalue": "'str' object cannot be interpreted as an integer",
          "output_type": "error",
          "traceback": [
            "\u001b[0;31m---------------------------------------------------------------------------\u001b[0m",
            "\u001b[0;31mTypeError\u001b[0m                                 Traceback (most recent call last)",
            "\u001b[0;32m<ipython-input-13-51c31733e781>\u001b[0m in \u001b[0;36m<module>\u001b[0;34m\u001b[0m\n\u001b[0;32m----> 1\u001b[0;31m \u001b[0mrange\u001b[0m\u001b[0;34m(\u001b[0m\u001b[0;34m\"5\"\u001b[0m\u001b[0;34m)\u001b[0m\u001b[0;34m\u001b[0m\u001b[0;34m\u001b[0m\u001b[0m\n\u001b[0m",
            "\u001b[0;31mTypeError\u001b[0m: 'str' object cannot be interpreted as an integer"
          ]
        }
      ]
    },
    {
      "cell_type": "code",
      "metadata": {
        "id": "e2558412",
        "outputId": "b472bfdb-bb8f-459e-ac0e-8bb483d4d53a"
      },
      "source": [
        "3 + \"2\""
      ],
      "id": "e2558412",
      "execution_count": null,
      "outputs": [
        {
          "ename": "TypeError",
          "evalue": "unsupported operand type(s) for +: 'int' and 'str'",
          "output_type": "error",
          "traceback": [
            "\u001b[0;31m---------------------------------------------------------------------------\u001b[0m",
            "\u001b[0;31mTypeError\u001b[0m                                 Traceback (most recent call last)",
            "\u001b[0;32m<ipython-input-14-6370597ae33d>\u001b[0m in \u001b[0;36m<module>\u001b[0;34m\u001b[0m\n\u001b[0;32m----> 1\u001b[0;31m \u001b[0;36m3\u001b[0m \u001b[0;34m+\u001b[0m \u001b[0;34m\"2\"\u001b[0m\u001b[0;34m\u001b[0m\u001b[0;34m\u001b[0m\u001b[0m\n\u001b[0m",
            "\u001b[0;31mTypeError\u001b[0m: unsupported operand type(s) for +: 'int' and 'str'"
          ]
        }
      ]
    },
    {
      "cell_type": "code",
      "metadata": {
        "id": "a3c96c83",
        "outputId": "f814f0ba-bec6-4258-ce80-bc6eb6ab5348"
      },
      "source": [
        "while True:\n",
        "    no_one = int(input(\"The first number please : \"))\n",
        "    no_two = int(input(\"The second number please : \"))\n",
        "    division = no_one / no_two\n",
        "    print(\"The result of the division is : \", division)\n",
        "    break"
      ],
      "id": "a3c96c83",
      "execution_count": null,
      "outputs": [
        {
          "name": "stdout",
          "output_type": "stream",
          "text": [
            "The first number please : 7\n",
            "The second number please : 0\n"
          ]
        },
        {
          "ename": "ZeroDivisionError",
          "evalue": "division by zero",
          "output_type": "error",
          "traceback": [
            "\u001b[0;31m---------------------------------------------------------------------------\u001b[0m",
            "\u001b[0;31mZeroDivisionError\u001b[0m                         Traceback (most recent call last)",
            "\u001b[0;32m<ipython-input-16-71c23077dd83>\u001b[0m in \u001b[0;36m<module>\u001b[0;34m\u001b[0m\n\u001b[1;32m      2\u001b[0m     \u001b[0mno_one\u001b[0m \u001b[0;34m=\u001b[0m \u001b[0mint\u001b[0m\u001b[0;34m(\u001b[0m\u001b[0minput\u001b[0m\u001b[0;34m(\u001b[0m\u001b[0;34m\"The first number please : \"\u001b[0m\u001b[0;34m)\u001b[0m\u001b[0;34m)\u001b[0m\u001b[0;34m\u001b[0m\u001b[0;34m\u001b[0m\u001b[0m\n\u001b[1;32m      3\u001b[0m     \u001b[0mno_two\u001b[0m \u001b[0;34m=\u001b[0m \u001b[0mint\u001b[0m\u001b[0;34m(\u001b[0m\u001b[0minput\u001b[0m\u001b[0;34m(\u001b[0m\u001b[0;34m\"The second number please : \"\u001b[0m\u001b[0;34m)\u001b[0m\u001b[0;34m)\u001b[0m\u001b[0;34m\u001b[0m\u001b[0;34m\u001b[0m\u001b[0m\n\u001b[0;32m----> 4\u001b[0;31m     \u001b[0mdivision\u001b[0m \u001b[0;34m=\u001b[0m \u001b[0mno_one\u001b[0m \u001b[0;34m/\u001b[0m \u001b[0mno_two\u001b[0m\u001b[0;34m\u001b[0m\u001b[0;34m\u001b[0m\u001b[0m\n\u001b[0m\u001b[1;32m      5\u001b[0m     \u001b[0mprint\u001b[0m\u001b[0;34m(\u001b[0m\u001b[0;34m\"The result of the division is : \"\u001b[0m\u001b[0;34m,\u001b[0m \u001b[0mdivision\u001b[0m\u001b[0;34m)\u001b[0m\u001b[0;34m\u001b[0m\u001b[0;34m\u001b[0m\u001b[0m\n\u001b[1;32m      6\u001b[0m     \u001b[0;32mbreak\u001b[0m\u001b[0;34m\u001b[0m\u001b[0;34m\u001b[0m\u001b[0m\n",
            "\u001b[0;31mZeroDivisionError\u001b[0m: division by zero"
          ]
        }
      ]
    },
    {
      "cell_type": "code",
      "metadata": {
        "id": "3540deb0",
        "outputId": "0935bdfa-fc16-4eb2-bccb-c38bf0cb645f"
      },
      "source": [
        "while True:\n",
        "    no_one = int(input(\"The first number please : \"))\n",
        "    no_two = int(input(\"The second number please : \"))\n",
        "    \n",
        "    try :\n",
        "        division = no_one / no_two\n",
        "        print(\"The result of the division is : \", division)\n",
        "        break\n",
        "    except :\n",
        "        print(\"something is wrong.\")"
      ],
      "id": "3540deb0",
      "execution_count": null,
      "outputs": [
        {
          "name": "stdout",
          "output_type": "stream",
          "text": [
            "The first number please : 7\n",
            "The second number please : 0\n",
            "something is wrong.\n",
            "The first number please : 7\n",
            "The second number please : 2\n",
            "The result of the division is :  3.5\n"
          ]
        }
      ]
    },
    {
      "cell_type": "code",
      "metadata": {
        "id": "6e6132cb",
        "outputId": "43059b13-dab1-41de-c4db-b90a106b7b14"
      },
      "source": [
        "try :\n",
        "    print(4 + \"4\")\n",
        "    \n",
        "except :\n",
        "    print(\"muhtemelen yanlış birşeyler yaptın\")"
      ],
      "id": "6e6132cb",
      "execution_count": null,
      "outputs": [
        {
          "name": "stdout",
          "output_type": "stream",
          "text": [
            "muhtemelen yanlış birşeyler yaptın\n"
          ]
        }
      ]
    },
    {
      "cell_type": "code",
      "metadata": {
        "id": "0aac5471",
        "outputId": "88bf699a-c4c1-4463-b75b-4869b4922ae1"
      },
      "source": [
        "try :\n",
        "    print(\"4\" + \"5\")\n",
        "    \n",
        "except : \n",
        "    print(\"muhtemelen yanlış birşeyler yaptın yine seni gidi\")"
      ],
      "id": "0aac5471",
      "execution_count": null,
      "outputs": [
        {
          "name": "stdout",
          "output_type": "stream",
          "text": [
            "45\n"
          ]
        }
      ]
    },
    {
      "cell_type": "code",
      "metadata": {
        "id": "5d707c7b",
        "outputId": "1ccde3e8-be0a-44ad-e9c2-ca4fbc481fbc"
      },
      "source": [
        "while True:\n",
        "    no_one = int(input(\"The first number please : \"))\n",
        "    no_two = int(input(\"The second number please : \"))\n",
        "    \n",
        "    try :\n",
        "        division = no_one / no_two\n",
        "        print(\"The result of the division is : \", division)\n",
        "        break\n",
        "    except ZeroDivisionError:\n",
        "        print(\"Sıfıra bölünme hatası var. İkinci sayıyı 0 girmeyiniz.\")"
      ],
      "id": "5d707c7b",
      "execution_count": null,
      "outputs": [
        {
          "name": "stdout",
          "output_type": "stream",
          "text": [
            "The first number please : 7\n",
            "The second number please : 0\n",
            "something is wrong.\n",
            "The first number please : 7\n",
            "The second number please : 7\n",
            "The result of the division is :  1.0\n"
          ]
        }
      ]
    },
    {
      "cell_type": "code",
      "metadata": {
        "id": "77599950",
        "outputId": "0fe74bc2-21a5-485b-fe3e-2a865ec7b8dd"
      },
      "source": [
        "try :\n",
        "    file = open(\"my_file.txt\", \"r\")\n",
        "    print(file.read())\n",
        "    file.close()\n",
        "except :\n",
        "    print(\"There is not such a file or the path is incorrect.\")"
      ],
      "id": "77599950",
      "execution_count": null,
      "outputs": [
        {
          "name": "stdout",
          "output_type": "stream",
          "text": [
            "There is not such a file or the path is incorrect.\n"
          ]
        }
      ]
    },
    {
      "cell_type": "code",
      "metadata": {
        "id": "5ac46809",
        "outputId": "8ac15119-b712-4dad-fbf6-5a2ef0c9d208"
      },
      "source": [
        "file = open(\"my_file.txt\", \"r\")\n",
        "print(file.read())\n",
        "file.close()"
      ],
      "id": "5ac46809",
      "execution_count": null,
      "outputs": [
        {
          "ename": "FileNotFoundError",
          "evalue": "[Errno 2] No such file or directory: 'my_file.txt'",
          "output_type": "error",
          "traceback": [
            "\u001b[0;31m---------------------------------------------------------------------------\u001b[0m",
            "\u001b[0;31mFileNotFoundError\u001b[0m                         Traceback (most recent call last)",
            "\u001b[0;32m<ipython-input-23-9417f736f55c>\u001b[0m in \u001b[0;36m<module>\u001b[0;34m\u001b[0m\n\u001b[0;32m----> 1\u001b[0;31m \u001b[0mfile\u001b[0m \u001b[0;34m=\u001b[0m \u001b[0mopen\u001b[0m\u001b[0;34m(\u001b[0m\u001b[0;34m\"my_file.txt\"\u001b[0m\u001b[0;34m,\u001b[0m \u001b[0;34m\"r\"\u001b[0m\u001b[0;34m)\u001b[0m\u001b[0;34m\u001b[0m\u001b[0;34m\u001b[0m\u001b[0m\n\u001b[0m\u001b[1;32m      2\u001b[0m \u001b[0mprint\u001b[0m\u001b[0;34m(\u001b[0m\u001b[0mfile\u001b[0m\u001b[0;34m.\u001b[0m\u001b[0mread\u001b[0m\u001b[0;34m(\u001b[0m\u001b[0;34m)\u001b[0m\u001b[0;34m)\u001b[0m\u001b[0;34m\u001b[0m\u001b[0;34m\u001b[0m\u001b[0m\n\u001b[1;32m      3\u001b[0m \u001b[0mfile\u001b[0m\u001b[0;34m.\u001b[0m\u001b[0mclose\u001b[0m\u001b[0;34m(\u001b[0m\u001b[0;34m)\u001b[0m\u001b[0;34m\u001b[0m\u001b[0;34m\u001b[0m\u001b[0m\n",
            "\u001b[0;31mFileNotFoundError\u001b[0m: [Errno 2] No such file or directory: 'my_file.txt'"
          ]
        }
      ]
    },
    {
      "cell_type": "code",
      "metadata": {
        "id": "7cfe9995",
        "outputId": "86af56c0-7d1b-454e-b538-311fbc4d292a"
      },
      "source": [
        "try :\n",
        "    file = open(\"my_file.txt\", \"r\")\n",
        "    print(file.read())\n",
        "    file.close()\n",
        "except FileNotFoundError:\n",
        "    print(\"There is not such a file or the path is incorrect.\")"
      ],
      "id": "7cfe9995",
      "execution_count": null,
      "outputs": [
        {
          "name": "stdout",
          "output_type": "stream",
          "text": [
            "There is not such a file or the path is incorrect.\n"
          ]
        }
      ]
    },
    {
      "cell_type": "code",
      "metadata": {
        "id": "c6a41f66",
        "outputId": "9a2ed57c-68db-44bc-ab7e-f6d066651eb8"
      },
      "source": [
        "try :\n",
        "    sonuc = \"4\" + \"5\"\n",
        "    print(\"hahaha\")\n",
        "    \n",
        "except TypeError : \n",
        "    print(\"Type hatası var. Tipi kontrol etsen iyi olur.\")\n",
        "    \n",
        "else :\n",
        "    print(\"aAA demek ki. hata yükselmemiş. super. sonuç :\", sonuc)\n",
        "    \n",
        "finally :\n",
        "    print(\"Eh nihayet bana sıra geldi. Önünde sonunda çalışırım arkadaş.\")"
      ],
      "id": "c6a41f66",
      "execution_count": null,
      "outputs": [
        {
          "name": "stdout",
          "output_type": "stream",
          "text": [
            "hahaha\n",
            "aAA demek ki. hata yükselmemiş. super. sonuç : 45\n",
            "Eh nihayet bana sıra geldi. Önünde sonunda çalışırım arkadaş.\n"
          ]
        }
      ]
    },
    {
      "cell_type": "code",
      "metadata": {
        "id": "0726036c",
        "outputId": "67c18452-f81c-4972-b91b-b2581a8c5f16"
      },
      "source": [
        "try :\n",
        "    print(\"vira bismillah\")\n",
        "    sonuc = \"4\" + 5\n",
        "    print(\"hahaha\")\n",
        "    \n",
        "except TypeError : \n",
        "    print(\"Type hatası var. Tipi kontrol etsen iyi olur.\")\n",
        "    \n",
        "else :\n",
        "    print(\"aAA demek ki. hata yükselmemiş. super. sonuç :\", sonuc)\n",
        "    \n",
        "finally :\n",
        "    print(\"Eh nihayet bana sıra geldi. Önünde sonunda çalışırım arkadaş.\")"
      ],
      "id": "0726036c",
      "execution_count": null,
      "outputs": [
        {
          "name": "stdout",
          "output_type": "stream",
          "text": [
            "vira bismillah\n",
            "Type hatası var. Tipi kontrol etsen iyi olur.\n",
            "Eh nihayet bana sıra geldi. Önünde sonunda çalışırım arkadaş.\n"
          ]
        }
      ]
    },
    {
      "cell_type": "code",
      "metadata": {
        "id": "6455874b",
        "outputId": "55f89fa9-4526-4ff6-aba1-d289d9f199b1"
      },
      "source": [
        "try :\n",
        "    print(\"vira bismillah\")\n",
        "    sonuc = \"4\" + 5\n",
        "    print(\"hahaha\")\n",
        "    \n",
        "except ValueError : \n",
        "    print(\"Type hatası var. Tipi kontrol etsen iyi olur.\")\n",
        "    \n",
        "else :\n",
        "    print(\"aAA demek ki. hata yükselmemiş. super. sonuç :\", sonuc)\n",
        "    \n",
        "finally :\n",
        "    print(\"Eh nihayet bana sıra geldi. Önünde sonunda çalışırım arkadaş.\")"
      ],
      "id": "6455874b",
      "execution_count": null,
      "outputs": [
        {
          "name": "stdout",
          "output_type": "stream",
          "text": [
            "vira bismillah\n",
            "Eh nihayet bana sıra geldi. Önünde sonunda çalışırım arkadaş.\n"
          ]
        },
        {
          "ename": "TypeError",
          "evalue": "can only concatenate str (not \"int\") to str",
          "output_type": "error",
          "traceback": [
            "\u001b[0;31m---------------------------------------------------------------------------\u001b[0m",
            "\u001b[0;31mTypeError\u001b[0m                                 Traceback (most recent call last)",
            "\u001b[0;32m<ipython-input-27-a3a6e9d61a01>\u001b[0m in \u001b[0;36m<module>\u001b[0;34m\u001b[0m\n\u001b[1;32m      1\u001b[0m \u001b[0;32mtry\u001b[0m \u001b[0;34m:\u001b[0m\u001b[0;34m\u001b[0m\u001b[0;34m\u001b[0m\u001b[0m\n\u001b[1;32m      2\u001b[0m     \u001b[0mprint\u001b[0m\u001b[0;34m(\u001b[0m\u001b[0;34m\"vira bismillah\"\u001b[0m\u001b[0;34m)\u001b[0m\u001b[0;34m\u001b[0m\u001b[0;34m\u001b[0m\u001b[0m\n\u001b[0;32m----> 3\u001b[0;31m     \u001b[0msonuc\u001b[0m \u001b[0;34m=\u001b[0m \u001b[0;34m\"4\"\u001b[0m \u001b[0;34m+\u001b[0m \u001b[0;36m5\u001b[0m\u001b[0;34m\u001b[0m\u001b[0;34m\u001b[0m\u001b[0m\n\u001b[0m\u001b[1;32m      4\u001b[0m     \u001b[0mprint\u001b[0m\u001b[0;34m(\u001b[0m\u001b[0;34m\"hahaha\"\u001b[0m\u001b[0;34m)\u001b[0m\u001b[0;34m\u001b[0m\u001b[0;34m\u001b[0m\u001b[0m\n\u001b[1;32m      5\u001b[0m \u001b[0;34m\u001b[0m\u001b[0m\n",
            "\u001b[0;31mTypeError\u001b[0m: can only concatenate str (not \"int\") to str"
          ]
        }
      ]
    },
    {
      "cell_type": "code",
      "metadata": {
        "id": "cc02e4e9"
      },
      "source": [
        ""
      ],
      "id": "cc02e4e9",
      "execution_count": null,
      "outputs": []
    },
    {
      "cell_type": "code",
      "metadata": {
        "id": "0df68028",
        "outputId": "af5cd693-f5ca-4b19-a271-d401486d0cfd"
      },
      "source": [
        "try :\n",
        "    print(\"vira bismillah\")\n",
        "    sonuc = \"4\" + 5\n",
        "    print(\"hahaha\")\n",
        "    \n",
        "except : \n",
        "    print(\"Type hatası var. Tipi kontrol etsen iyi olur.\")\n",
        "    \n",
        "else :\n",
        "    print(\"aAA demek ki. hata yükselmemiş. super. sonuç :\", sonuc)\n",
        "    \n",
        "finally :\n",
        "    print(\"Eh nihayet bana sıra geldi. Önünde sonunda çalışırım arkadaş.\")"
      ],
      "id": "0df68028",
      "execution_count": null,
      "outputs": [
        {
          "name": "stdout",
          "output_type": "stream",
          "text": [
            "vira bismillah\n",
            "Type hatası var. Tipi kontrol etsen iyi olur.\n",
            "Eh nihayet bana sıra geldi. Önünde sonunda çalışırım arkadaş.\n"
          ]
        }
      ]
    },
    {
      "cell_type": "code",
      "metadata": {
        "id": "12f2438f"
      },
      "source": [
        ""
      ],
      "id": "12f2438f",
      "execution_count": null,
      "outputs": []
    },
    {
      "cell_type": "code",
      "metadata": {
        "id": "2846087f"
      },
      "source": [
        "try :\n",
        "    print(\"vira bismillah\")\n",
        "    sonuc = \"4\" + 5\n",
        "    print(\"hahaha\")\n",
        "    \n",
        "except ValueError: \n",
        "    print(\"value errore göre işelm yap\")\n",
        "\n",
        "except TypeError: \n",
        "    print(\"type error'e göre işlem yap\")\n",
        "\n",
        "except ZeroDivisionError: \n",
        "    print(\"zerodivisonerorr'e göre işlem yap\")\n",
        "    \n",
        "else :\n",
        "    print(\"aAA demek ki. hata yükselmemiş. super. sonuç :\", sonuc)\n",
        "    \n",
        "finally :\n",
        "    print(\"Eh nihayet bana sıra geldi. Önünde sonunda çalışırım arkadaş.\")"
      ],
      "id": "2846087f",
      "execution_count": null,
      "outputs": []
    },
    {
      "cell_type": "code",
      "metadata": {
        "id": "ce335fe1"
      },
      "source": [
        ""
      ],
      "id": "ce335fe1",
      "execution_count": null,
      "outputs": []
    },
    {
      "cell_type": "code",
      "metadata": {
        "id": "9dfd9530"
      },
      "source": [
        ""
      ],
      "id": "9dfd9530",
      "execution_count": null,
      "outputs": []
    },
    {
      "cell_type": "code",
      "metadata": {
        "id": "56a0b29f"
      },
      "source": [
        "while True:\n",
        "    no_one = int(input(\"The first number please : \"))\n",
        "    no_two = int(input(\"The second number please : \"))\n",
        "    \n",
        "    try :\n",
        "        division = no_one / no_two\n",
        "        print(\"The result of the division is : \", division)\n",
        "        break\n",
        "    except ZeroDivisionError:\n",
        "        print(\"Sıfıra bölünme hatası var. İkinci sayıyı 0 girmeyiniz.\")"
      ],
      "id": "56a0b29f",
      "execution_count": null,
      "outputs": []
    },
    {
      "cell_type": "code",
      "metadata": {
        "id": "a681bc7b"
      },
      "source": [
        ""
      ],
      "id": "a681bc7b",
      "execution_count": null,
      "outputs": []
    }
  ]
}