{
  "nbformat": 4,
  "nbformat_minor": 0,
  "metadata": {
    "colab": {
      "name": "inclass_09.09.2021.ipynb",
      "provenance": [],
      "collapsed_sections": [],
      "authorship_tag": "ABX9TyPD2Q2mbmSlzN8oIV1jwAlO",
      "include_colab_link": true
    },
    "kernelspec": {
      "name": "python3",
      "display_name": "Python 3"
    },
    "language_info": {
      "name": "python"
    }
  },
  "cells": [
    {
      "cell_type": "markdown",
      "metadata": {
        "id": "view-in-github",
        "colab_type": "text"
      },
      "source": [
        "<a href=\"https://colab.research.google.com/github/GulBSahin/bookstore-project/blob/main/inclass_09_09_2021.ipynb\" target=\"_parent\"><img src=\"https://colab.research.google.com/assets/colab-badge.svg\" alt=\"Open In Colab\"/></a>"
      ]
    },
    {
      "cell_type": "code",
      "metadata": {
        "colab": {
          "base_uri": "https://localhost:8080/",
          "height": 128
        },
        "id": "t7MPCxHDikFC",
        "outputId": "b99f7112-1d71-44d3-d52f-f2e6531573b1"
      },
      "source": [
        "with open(\"fishes.txt\", \"r\") as file :\n"
      ],
      "execution_count": 7,
      "outputs": [
        {
          "output_type": "error",
          "ename": "SyntaxError",
          "evalue": "ignored",
          "traceback": [
            "\u001b[0;36m  File \u001b[0;32m\"<ipython-input-7-3fb1cbe5a0d8>\"\u001b[0;36m, line \u001b[0;32m1\u001b[0m\n\u001b[0;31m    with open(\"fishes.txt\", \"r\") as file :\u001b[0m\n\u001b[0m                                          ^\u001b[0m\n\u001b[0;31mSyntaxError\u001b[0m\u001b[0;31m:\u001b[0m unexpected EOF while parsing\n"
          ]
        }
      ]
    },
    {
      "cell_type": "code",
      "metadata": {
        "id": "gprKkk5qj5E6"
      },
      "source": [
        "with open(\"rumi.txt\", \"r\") as file :\n",
        "  rumi=file.readlines()"
      ],
      "execution_count": 8,
      "outputs": []
    },
    {
      "cell_type": "code",
      "metadata": {
        "colab": {
          "base_uri": "https://localhost:8080/"
        },
        "id": "TpN62PgdmEPm",
        "outputId": "d9ba3ed4-c7ee-4bca-f2ec-d2bc217b40d0"
      },
      "source": [
        "rumi"
      ],
      "execution_count": 9,
      "outputs": [
        {
          "output_type": "execute_result",
          "data": {
            "text/plain": [
              "['I want to sing\\n',\n",
              " 'Like the birds sing,\\n',\n",
              " 'Not worrying about\\n',\n",
              " 'Who hears or\\n',\n",
              " 'What they think.']"
            ]
          },
          "metadata": {},
          "execution_count": 9
        }
      ]
    },
    {
      "cell_type": "code",
      "metadata": {
        "colab": {
          "base_uri": "https://localhost:8080/"
        },
        "id": "IbiQhCpPmFFr",
        "outputId": "f2da01a0-4048-48c6-9fc8-e5f130f8968a"
      },
      "source": [
        "fruits = ['Banana', 'Orange', 'Apple', 'Strawberry', 'Cherry']\n",
        "with open (\"my_file.txt\", \"w\") as file:\n",
        "    for i in fruits :\n",
        "      file.write(i+ \"\\n\")\n",
        "with open (\"my_file.txt\", \"r\") as file:\n",
        "    print(file.read())"
      ],
      "execution_count": 19,
      "outputs": [
        {
          "output_type": "stream",
          "name": "stdout",
          "text": [
            "Banana\n",
            "Orange\n",
            "Apple\n",
            "Strawberry\n",
            "Cherry\n",
            "\n"
          ]
        }
      ]
    },
    {
      "cell_type": "code",
      "metadata": {
        "colab": {
          "base_uri": "https://localhost:8080/"
        },
        "id": "w3VUAmiKqRrN",
        "outputId": "84e73d19-e77b-4e0c-d957-758b5428f68b"
      },
      "source": [
        "with open (\"istiklal.txt\", \"r\") as file:\n",
        "    print(file.read())"
      ],
      "execution_count": 20,
      "outputs": [
        {
          "output_type": "stream",
          "name": "stdout",
          "text": [
            "Korkma, sönmez bu şafaklarda yüzen al sancak;\n",
            "Sönmeden yurdumun üstünde tüten en son ocak.\n",
            "O benim milletimin yıldızıdır, parlayacak;\n",
            "O benimdir, o benim milletimindir ancak.\n",
            "Çatma, kurban olayım, çehreni ey nazlı hilal!\n",
            "Kahraman ırkıma bir gül! Ne bu şiddet, bu celal?\n",
            "Sana olmaz dökülen kanlarımız sonra helal...\n",
            "Hakkıdır, hakk'a tapan, milletimin istiklal!\n",
            "Ben ezelden beridir hür yaşadım, hür yaşarım.\n",
            "Hangi çılgın bana zincir vuracakmış? Şaşarım!\n",
            "Kükremiş sel gibiyim, bendimi çiğner, aşarım.\n",
            "Yırtarım dağları, enginlere sığmam, taşarım.\n",
            "Garbın afakını sarmışsa çelik zırhlı duvar,\n",
            "Benim iman dolu göğsüm gibi serhaddim var.\n",
            "Ulusun, korkma! Nasıl böyle bir imanı boğar,\n",
            "'Medeniyet!' dediğin tek dişi kalmış canavar?\n",
            "Arkadaş! Yurduma alçakları uğratma, sakın.\n",
            "Siper et gövdeni, dursun bu hayasızca akın.\n",
            "Doğacaktır sana va'dettigi günler hakk'ın...\n",
            "Kim bilir, belki yarın, belki yarından da yakın.\n",
            "Bastığın yerleri 'toprak!' diyerek geçme, tanı:\n",
            "Düşün altında binlerce kefensiz yatanı.\n",
            "Sen şehit oğlusun, incitme, yazıktır, atanı:\n",
            "Verme, dünyaları alsan da, bu cennet vatanı.\n",
            "Kim bu cennet vatanın uğruna olmaz ki feda?\n",
            "Şuheda fışkıracak toprağı sıksan, şuheda!\n",
            "Canı, cananı, bütün varımı alsın da hüda,\n",
            "Etmesin tek vatanımdan beni dünyada cüda.\n",
            "Ruhumun senden, ilahi, şudur ancak emeli:\n",
            "Değmesin mabedimin göğsüne namahrem eli.\n",
            "Bu ezanlar-ki şahadetleri dinin temeli,\n",
            "Ebedi yurdumun üstünde benim inlemeli.\n",
            "\n"
          ]
        }
      ]
    },
    {
      "cell_type": "code",
      "metadata": {
        "id": "Bdp3atVr0Gwo"
      },
      "source": [
        "with open (\"istiklal.txt\", \"r\") as file:\n",
        "    istiklal=file.readlines()"
      ],
      "execution_count": 26,
      "outputs": []
    },
    {
      "cell_type": "code",
      "metadata": {
        "id": "BN6wYlgL0ptf"
      },
      "source": [
        ""
      ],
      "execution_count": null,
      "outputs": []
    },
    {
      "cell_type": "code",
      "metadata": {
        "colab": {
          "base_uri": "https://localhost:8080/"
        },
        "id": "SM7Be7tO0tx5",
        "outputId": "321120b4-21f6-4674-a73e-a1232c9d0015"
      },
      "source": [
        "count=0\n",
        "with open (\"istiklal_yeni.txt\", \"w\") as file:\n",
        "    for i in istiklal :\n",
        "      count+=1\n",
        "      if count %4==0:\n",
        "          file.write(i+ \"\\n\")\n",
        "      else:\n",
        "          file.write(i)\n",
        "with open (\"istiklal_yeni.txt\", \"r\") as file:\n",
        "    print(file.read())"
      ],
      "execution_count": 27,
      "outputs": [
        {
          "output_type": "stream",
          "name": "stdout",
          "text": [
            "Korkma, sönmez bu şafaklarda yüzen al sancak;\n",
            "Sönmeden yurdumun üstünde tüten en son ocak.\n",
            "O benim milletimin yıldızıdır, parlayacak;\n",
            "O benimdir, o benim milletimindir ancak.\n",
            "\n",
            "Çatma, kurban olayım, çehreni ey nazlı hilal!\n",
            "Kahraman ırkıma bir gül! Ne bu şiddet, bu celal?\n",
            "Sana olmaz dökülen kanlarımız sonra helal...\n",
            "Hakkıdır, hakk'a tapan, milletimin istiklal!\n",
            "\n",
            "Ben ezelden beridir hür yaşadım, hür yaşarım.\n",
            "Hangi çılgın bana zincir vuracakmış? Şaşarım!\n",
            "Kükremiş sel gibiyim, bendimi çiğner, aşarım.\n",
            "Yırtarım dağları, enginlere sığmam, taşarım.\n",
            "\n",
            "Garbın afakını sarmışsa çelik zırhlı duvar,\n",
            "Benim iman dolu göğsüm gibi serhaddim var.\n",
            "Ulusun, korkma! Nasıl böyle bir imanı boğar,\n",
            "'Medeniyet!' dediğin tek dişi kalmış canavar?\n",
            "\n",
            "Arkadaş! Yurduma alçakları uğratma, sakın.\n",
            "Siper et gövdeni, dursun bu hayasızca akın.\n",
            "Doğacaktır sana va'dettigi günler hakk'ın...\n",
            "Kim bilir, belki yarın, belki yarından da yakın.\n",
            "\n",
            "Bastığın yerleri 'toprak!' diyerek geçme, tanı:\n",
            "Düşün altında binlerce kefensiz yatanı.\n",
            "Sen şehit oğlusun, incitme, yazıktır, atanı:\n",
            "Verme, dünyaları alsan da, bu cennet vatanı.\n",
            "\n",
            "Kim bu cennet vatanın uğruna olmaz ki feda?\n",
            "Şuheda fışkıracak toprağı sıksan, şuheda!\n",
            "Canı, cananı, bütün varımı alsın da hüda,\n",
            "Etmesin tek vatanımdan beni dünyada cüda.\n",
            "\n",
            "Ruhumun senden, ilahi, şudur ancak emeli:\n",
            "Değmesin mabedimin göğsüne namahrem eli.\n",
            "Bu ezanlar-ki şahadetleri dinin temeli,\n",
            "Ebedi yurdumun üstünde benim inlemeli.\n",
            "\n",
            "\n"
          ]
        }
      ]
    },
    {
      "cell_type": "code",
      "metadata": {
        "id": "VKrI5t-k2Hhl"
      },
      "source": [
        "with open (\"istiklal_yeni.txt\", \"r\") as file:\n",
        "    istiklal=file.readlines()"
      ],
      "execution_count": 28,
      "outputs": []
    },
    {
      "cell_type": "code",
      "metadata": {
        "colab": {
          "base_uri": "https://localhost:8080/"
        },
        "id": "ZvmN4AvZ4sst",
        "outputId": "41ee5feb-a5a4-49e5-c20f-a7b3de145986"
      },
      "source": [
        "count=0\n",
        "with open (\"istiklal_yeni.txt\", \"w\") as file:\n",
        "    for i in istiklal :\n",
        "      count+=1\n",
        "      if count %5==0:\n",
        "        pass\n",
        "      else:\n",
        "          file.write(i)\n",
        "with open (\"istiklal_yeni.txt\", \"r\") as file:\n",
        "    print(file.read())"
      ],
      "execution_count": 32,
      "outputs": [
        {
          "output_type": "stream",
          "name": "stdout",
          "text": [
            "Korkma, sönmez bu şafaklarda yüzen al sancak;\n",
            "Sönmeden yurdumun üstünde tüten en son ocak.\n",
            "O benim milletimin yıldızıdır, parlayacak;\n",
            "O benimdir, o benim milletimindir ancak.\n",
            "Çatma, kurban olayım, çehreni ey nazlı hilal!\n",
            "Kahraman ırkıma bir gül! Ne bu şiddet, bu celal?\n",
            "Sana olmaz dökülen kanlarımız sonra helal...\n",
            "Hakkıdır, hakk'a tapan, milletimin istiklal!\n",
            "Ben ezelden beridir hür yaşadım, hür yaşarım.\n",
            "Hangi çılgın bana zincir vuracakmış? Şaşarım!\n",
            "Kükremiş sel gibiyim, bendimi çiğner, aşarım.\n",
            "Yırtarım dağları, enginlere sığmam, taşarım.\n",
            "Garbın afakını sarmışsa çelik zırhlı duvar,\n",
            "Benim iman dolu göğsüm gibi serhaddim var.\n",
            "Ulusun, korkma! Nasıl böyle bir imanı boğar,\n",
            "'Medeniyet!' dediğin tek dişi kalmış canavar?\n",
            "Arkadaş! Yurduma alçakları uğratma, sakın.\n",
            "Siper et gövdeni, dursun bu hayasızca akın.\n",
            "Doğacaktır sana va'dettigi günler hakk'ın...\n",
            "Kim bilir, belki yarın, belki yarından da yakın.\n",
            "Bastığın yerleri 'toprak!' diyerek geçme, tanı:\n",
            "Düşün altında binlerce kefensiz yatanı.\n",
            "Sen şehit oğlusun, incitme, yazıktır, atanı:\n",
            "Verme, dünyaları alsan da, bu cennet vatanı.\n",
            "Kim bu cennet vatanın uğruna olmaz ki feda?\n",
            "Şuheda fışkıracak toprağı sıksan, şuheda!\n",
            "Canı, cananı, bütün varımı alsın da hüda,\n",
            "Etmesin tek vatanımdan beni dünyada cüda.\n",
            "Ruhumun senden, ilahi, şudur ancak emeli:\n",
            "Değmesin mabedimin göğsüne namahrem eli.\n",
            "Bu ezanlar-ki şahadetleri dinin temeli,\n",
            "Ebedi yurdumun üstünde benim inlemeli.\n",
            "\n"
          ]
        }
      ]
    },
    {
      "cell_type": "code",
      "metadata": {
        "id": "jJ6rrFWw4118"
      },
      "source": [
        "import csv\n"
      ],
      "execution_count": 33,
      "outputs": []
    },
    {
      "cell_type": "code",
      "metadata": {
        "colab": {
          "base_uri": "https://localhost:8080/"
        },
        "id": "wRgDDdrY_E_5",
        "outputId": "25f0c947-7865-4fdb-dad4-8325b5006423"
      },
      "source": [
        "with open(\"fruits.csv\",\"r\", newline=\"\",encoding=\"utf-8\") as file:\n",
        "  csv_rows=csv.reader(file)\n",
        "\n",
        "  for row in csv_rows:\n",
        "    print(row)"
      ],
      "execution_count": 35,
      "outputs": [
        {
          "output_type": "stream",
          "name": "stdout",
          "text": [
            "['no', 'fruit', 'amount']\n",
            "['1', 'Banana', '4 lb']\n",
            "['2', 'Orange', '5 lb']\n",
            "['3', 'Apple', '2 lb']\n",
            "['4', 'Strawberry', '6 lb']\n",
            "['5', 'Cherry', '3 lb']\n"
          ]
        }
      ]
    },
    {
      "cell_type": "code",
      "metadata": {
        "id": "TKaXG8BZ_dxL"
      },
      "source": [
        "import pandas as pd \n"
      ],
      "execution_count": 36,
      "outputs": []
    },
    {
      "cell_type": "code",
      "metadata": {
        "colab": {
          "base_uri": "https://localhost:8080/",
          "height": 450
        },
        "id": "6Rrb1g7uBgTq",
        "outputId": "0bd71e9c-58b5-4d9d-c498-50773048d631"
      },
      "source": [
        "df=pd.read_csv(\"titanic.csv\")\n",
        "df"
      ],
      "execution_count": 37,
      "outputs": [
        {
          "output_type": "execute_result",
          "data": {
            "text/html": [
              "<div>\n",
              "<style scoped>\n",
              "    .dataframe tbody tr th:only-of-type {\n",
              "        vertical-align: middle;\n",
              "    }\n",
              "\n",
              "    .dataframe tbody tr th {\n",
              "        vertical-align: top;\n",
              "    }\n",
              "\n",
              "    .dataframe thead th {\n",
              "        text-align: right;\n",
              "    }\n",
              "</style>\n",
              "<table border=\"1\" class=\"dataframe\">\n",
              "  <thead>\n",
              "    <tr style=\"text-align: right;\">\n",
              "      <th></th>\n",
              "      <th>PassengerId</th>\n",
              "      <th>Survived</th>\n",
              "      <th>Pclass</th>\n",
              "      <th>Name</th>\n",
              "      <th>Sex</th>\n",
              "      <th>Age</th>\n",
              "      <th>SibSp</th>\n",
              "      <th>Parch</th>\n",
              "      <th>Ticket</th>\n",
              "      <th>Fare</th>\n",
              "      <th>Cabin</th>\n",
              "      <th>Embarked</th>\n",
              "    </tr>\n",
              "  </thead>\n",
              "  <tbody>\n",
              "    <tr>\n",
              "      <th>0</th>\n",
              "      <td>1</td>\n",
              "      <td>0</td>\n",
              "      <td>3</td>\n",
              "      <td>Braund, Mr. Owen Harris</td>\n",
              "      <td>male</td>\n",
              "      <td>22.0</td>\n",
              "      <td>1</td>\n",
              "      <td>0</td>\n",
              "      <td>A/5 21171</td>\n",
              "      <td>7.2500</td>\n",
              "      <td>NaN</td>\n",
              "      <td>S</td>\n",
              "    </tr>\n",
              "    <tr>\n",
              "      <th>1</th>\n",
              "      <td>2</td>\n",
              "      <td>1</td>\n",
              "      <td>1</td>\n",
              "      <td>Cumings, Mrs. John Bradley (Florence Briggs Th...</td>\n",
              "      <td>female</td>\n",
              "      <td>38.0</td>\n",
              "      <td>1</td>\n",
              "      <td>0</td>\n",
              "      <td>PC 17599</td>\n",
              "      <td>71.2833</td>\n",
              "      <td>C85</td>\n",
              "      <td>C</td>\n",
              "    </tr>\n",
              "    <tr>\n",
              "      <th>2</th>\n",
              "      <td>3</td>\n",
              "      <td>1</td>\n",
              "      <td>3</td>\n",
              "      <td>Heikkinen, Miss. Laina</td>\n",
              "      <td>female</td>\n",
              "      <td>26.0</td>\n",
              "      <td>0</td>\n",
              "      <td>0</td>\n",
              "      <td>STON/O2. 3101282</td>\n",
              "      <td>7.9250</td>\n",
              "      <td>NaN</td>\n",
              "      <td>S</td>\n",
              "    </tr>\n",
              "    <tr>\n",
              "      <th>3</th>\n",
              "      <td>4</td>\n",
              "      <td>1</td>\n",
              "      <td>1</td>\n",
              "      <td>Futrelle, Mrs. Jacques Heath (Lily May Peel)</td>\n",
              "      <td>female</td>\n",
              "      <td>35.0</td>\n",
              "      <td>1</td>\n",
              "      <td>0</td>\n",
              "      <td>113803</td>\n",
              "      <td>53.1000</td>\n",
              "      <td>C123</td>\n",
              "      <td>S</td>\n",
              "    </tr>\n",
              "    <tr>\n",
              "      <th>4</th>\n",
              "      <td>5</td>\n",
              "      <td>0</td>\n",
              "      <td>3</td>\n",
              "      <td>Allen, Mr. William Henry</td>\n",
              "      <td>male</td>\n",
              "      <td>35.0</td>\n",
              "      <td>0</td>\n",
              "      <td>0</td>\n",
              "      <td>373450</td>\n",
              "      <td>8.0500</td>\n",
              "      <td>NaN</td>\n",
              "      <td>S</td>\n",
              "    </tr>\n",
              "    <tr>\n",
              "      <th>...</th>\n",
              "      <td>...</td>\n",
              "      <td>...</td>\n",
              "      <td>...</td>\n",
              "      <td>...</td>\n",
              "      <td>...</td>\n",
              "      <td>...</td>\n",
              "      <td>...</td>\n",
              "      <td>...</td>\n",
              "      <td>...</td>\n",
              "      <td>...</td>\n",
              "      <td>...</td>\n",
              "      <td>...</td>\n",
              "    </tr>\n",
              "    <tr>\n",
              "      <th>886</th>\n",
              "      <td>887</td>\n",
              "      <td>0</td>\n",
              "      <td>2</td>\n",
              "      <td>Montvila, Rev. Juozas</td>\n",
              "      <td>male</td>\n",
              "      <td>27.0</td>\n",
              "      <td>0</td>\n",
              "      <td>0</td>\n",
              "      <td>211536</td>\n",
              "      <td>13.0000</td>\n",
              "      <td>NaN</td>\n",
              "      <td>S</td>\n",
              "    </tr>\n",
              "    <tr>\n",
              "      <th>887</th>\n",
              "      <td>888</td>\n",
              "      <td>1</td>\n",
              "      <td>1</td>\n",
              "      <td>Graham, Miss. Margaret Edith</td>\n",
              "      <td>female</td>\n",
              "      <td>19.0</td>\n",
              "      <td>0</td>\n",
              "      <td>0</td>\n",
              "      <td>112053</td>\n",
              "      <td>30.0000</td>\n",
              "      <td>B42</td>\n",
              "      <td>S</td>\n",
              "    </tr>\n",
              "    <tr>\n",
              "      <th>888</th>\n",
              "      <td>889</td>\n",
              "      <td>0</td>\n",
              "      <td>3</td>\n",
              "      <td>Johnston, Miss. Catherine Helen \"Carrie\"</td>\n",
              "      <td>female</td>\n",
              "      <td>NaN</td>\n",
              "      <td>1</td>\n",
              "      <td>2</td>\n",
              "      <td>W./C. 6607</td>\n",
              "      <td>23.4500</td>\n",
              "      <td>NaN</td>\n",
              "      <td>S</td>\n",
              "    </tr>\n",
              "    <tr>\n",
              "      <th>889</th>\n",
              "      <td>890</td>\n",
              "      <td>1</td>\n",
              "      <td>1</td>\n",
              "      <td>Behr, Mr. Karl Howell</td>\n",
              "      <td>male</td>\n",
              "      <td>26.0</td>\n",
              "      <td>0</td>\n",
              "      <td>0</td>\n",
              "      <td>111369</td>\n",
              "      <td>30.0000</td>\n",
              "      <td>C148</td>\n",
              "      <td>C</td>\n",
              "    </tr>\n",
              "    <tr>\n",
              "      <th>890</th>\n",
              "      <td>891</td>\n",
              "      <td>0</td>\n",
              "      <td>3</td>\n",
              "      <td>Dooley, Mr. Patrick</td>\n",
              "      <td>male</td>\n",
              "      <td>32.0</td>\n",
              "      <td>0</td>\n",
              "      <td>0</td>\n",
              "      <td>370376</td>\n",
              "      <td>7.7500</td>\n",
              "      <td>NaN</td>\n",
              "      <td>Q</td>\n",
              "    </tr>\n",
              "  </tbody>\n",
              "</table>\n",
              "<p>891 rows × 12 columns</p>\n",
              "</div>"
            ],
            "text/plain": [
              "     PassengerId  Survived  Pclass  ...     Fare Cabin  Embarked\n",
              "0              1         0       3  ...   7.2500   NaN         S\n",
              "1              2         1       1  ...  71.2833   C85         C\n",
              "2              3         1       3  ...   7.9250   NaN         S\n",
              "3              4         1       1  ...  53.1000  C123         S\n",
              "4              5         0       3  ...   8.0500   NaN         S\n",
              "..           ...       ...     ...  ...      ...   ...       ...\n",
              "886          887         0       2  ...  13.0000   NaN         S\n",
              "887          888         1       1  ...  30.0000   B42         S\n",
              "888          889         0       3  ...  23.4500   NaN         S\n",
              "889          890         1       1  ...  30.0000  C148         C\n",
              "890          891         0       3  ...   7.7500   NaN         Q\n",
              "\n",
              "[891 rows x 12 columns]"
            ]
          },
          "metadata": {},
          "execution_count": 37
        }
      ]
    },
    {
      "cell_type": "code",
      "metadata": {
        "id": "3bqCx05ABn0Y"
      },
      "source": [
        ""
      ],
      "execution_count": null,
      "outputs": []
    }
  ]
}