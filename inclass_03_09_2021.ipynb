{
  "nbformat": 4,
  "nbformat_minor": 0,
  "metadata": {
    "colab": {
      "name": "inclass-03.09.2021.ipynb",
      "provenance": [],
      "collapsed_sections": [],
      "authorship_tag": "ABX9TyP/ynPAxhO7P0g1+lbRBjG4",
      "include_colab_link": true
    },
    "kernelspec": {
      "name": "python3",
      "display_name": "Python 3"
    },
    "language_info": {
      "name": "python"
    }
  },
  "cells": [
    {
      "cell_type": "markdown",
      "metadata": {
        "id": "view-in-github",
        "colab_type": "text"
      },
      "source": [
        "<a href=\"https://colab.research.google.com/github/GulBSahin/bookstore-project/blob/main/inclass_03_09_2021.ipynb\" target=\"_parent\"><img src=\"https://colab.research.google.com/assets/colab-badge.svg\" alt=\"Open In Colab\"/></a>"
      ]
    },
    {
      "cell_type": "code",
      "metadata": {
        "id": "Bkvhrlg4e0i8"
      },
      "source": [
        "word={1:\"1\", 2:\"2\"}"
      ],
      "execution_count": 1,
      "outputs": []
    },
    {
      "cell_type": "code",
      "metadata": {
        "colab": {
          "base_uri": "https://localhost:8080/"
        },
        "id": "vMBs3faMfp-l",
        "outputId": "5549d142-589a-48bb-eb8f-1fada9f14add"
      },
      "source": [
        "keys=word.keys()\n",
        "keys\n"
      ],
      "execution_count": 2,
      "outputs": [
        {
          "output_type": "execute_result",
          "data": {
            "text/plain": [
              "dict_keys([1, 2])"
            ]
          },
          "metadata": {},
          "execution_count": 2
        }
      ]
    },
    {
      "cell_type": "code",
      "metadata": {
        "id": "H8TS1znbfvlL"
      },
      "source": [
        "word_1={}"
      ],
      "execution_count": 3,
      "outputs": []
    },
    {
      "cell_type": "code",
      "metadata": {
        "id": "zjn5_-nbf3f-"
      },
      "source": [
        "word_1[3]=1\n"
      ],
      "execution_count": 4,
      "outputs": []
    },
    {
      "cell_type": "code",
      "metadata": {
        "colab": {
          "base_uri": "https://localhost:8080/"
        },
        "id": "bCDKLTXPf8h2",
        "outputId": "9732a949-4a27-4fe5-9b64-ca876ac8d32a"
      },
      "source": [
        "word_1"
      ],
      "execution_count": 5,
      "outputs": [
        {
          "output_type": "execute_result",
          "data": {
            "text/plain": [
              "{3: 1}"
            ]
          },
          "metadata": {},
          "execution_count": 5
        }
      ]
    },
    {
      "cell_type": "code",
      "metadata": {
        "id": "4wZdkQyLgDTU"
      },
      "source": [
        "word_1[1]=1"
      ],
      "execution_count": 6,
      "outputs": []
    },
    {
      "cell_type": "code",
      "metadata": {
        "colab": {
          "base_uri": "https://localhost:8080/"
        },
        "id": "_W2FmRjugL-h",
        "outputId": "c5d5432f-ecc4-499a-eafd-69b30fe9f0c4"
      },
      "source": [
        "word_1"
      ],
      "execution_count": 7,
      "outputs": [
        {
          "output_type": "execute_result",
          "data": {
            "text/plain": [
              "{1: 1, 3: 1}"
            ]
          },
          "metadata": {},
          "execution_count": 7
        }
      ]
    },
    {
      "cell_type": "code",
      "metadata": {
        "id": "-S97UOn8gOAU"
      },
      "source": [
        "word_1[3]+=1\n"
      ],
      "execution_count": 9,
      "outputs": []
    },
    {
      "cell_type": "code",
      "metadata": {
        "colab": {
          "base_uri": "https://localhost:8080/"
        },
        "id": "Hb3WpKOsgpMb",
        "outputId": "cada64a6-edb5-45c5-ff4d-dfb3343c1e7e"
      },
      "source": [
        "word_1"
      ],
      "execution_count": 10,
      "outputs": [
        {
          "output_type": "execute_result",
          "data": {
            "text/plain": [
              "{1: 1, 3: 2}"
            ]
          },
          "metadata": {},
          "execution_count": 10
        }
      ]
    },
    {
      "cell_type": "code",
      "metadata": {
        "id": "ceb3dF_Ggua_"
      },
      "source": [
        "string=\"bugün çok yorulmuşsan her yerde arayıp yine bulamamışsan\""
      ],
      "execution_count": 11,
      "outputs": []
    },
    {
      "cell_type": "code",
      "metadata": {
        "colab": {
          "base_uri": "https://localhost:8080/"
        },
        "id": "Pp_5fifyhLo_",
        "outputId": "d391d76c-2754-46d7-87e3-8a5fe93d40c4"
      },
      "source": [
        "word_dict={}\n",
        "for n in string:\n",
        "  keys=word_dict.keys\n",
        "  if n in word_dict:\n",
        "      word_dict[n]+=1\n",
        "  else:\n",
        "      word_dict[n]=1\n",
        "\n",
        "word_dict"
      ],
      "execution_count": 16,
      "outputs": [
        {
          "output_type": "execute_result",
          "data": {
            "text/plain": [
              "{' ': 7,\n",
              " 'a': 6,\n",
              " 'b': 2,\n",
              " 'd': 1,\n",
              " 'e': 4,\n",
              " 'g': 1,\n",
              " 'h': 1,\n",
              " 'i': 1,\n",
              " 'k': 1,\n",
              " 'l': 2,\n",
              " 'm': 3,\n",
              " 'n': 4,\n",
              " 'o': 2,\n",
              " 'p': 1,\n",
              " 'r': 4,\n",
              " 's': 2,\n",
              " 'u': 4,\n",
              " 'y': 4,\n",
              " 'ç': 1,\n",
              " 'ü': 1,\n",
              " 'ı': 2,\n",
              " 'ş': 2}"
            ]
          },
          "metadata": {},
          "execution_count": 16
        }
      ]
    },
    {
      "cell_type": "code",
      "metadata": {
        "colab": {
          "base_uri": "https://localhost:8080/"
        },
        "id": "Ave4COFGhRjQ",
        "outputId": "3332b1a9-ec90-4304-cbff-b2d648754d59"
      },
      "source": [
        "veri = [\"a\", \"b\", True, (False, 1), {\"1\" : 2}, [1,2], {\"2\" : \"two\"}, {2, \"3\"}, \"c\", 23, 0]\n",
        "\n",
        "tipler=[\"int\", \"str\", \"bool\" , \"list\", \"tuple\", \"dict\", \"set\"]\n",
        "toplam={}.fromkeys(tipler,0)\n",
        "toplam\n",
        "\n",
        "for i in range(len(veri)):\n",
        "  if type(veri[i])== int: toplam[\"int\"]+=1\n",
        "  elif type(veri[i])== str: toplam[\"str\"]+=1\n",
        "  elif type(veri[i])== bool: toplam[\"bool\"]+=1\n",
        "  elif type(veri[i])== list: toplam[\"list\"]+=1\n",
        "  elif type(veri[i])== tuple: toplam[\"tuple\"]+=1\n",
        "  elif type(veri[i])== dict: toplam[\"dict\"]+=1\n",
        "  elif type(veri[i])== set: toplam[\"set\"]+=1\n",
        "\n",
        "toplam"
      ],
      "execution_count": 23,
      "outputs": [
        {
          "output_type": "execute_result",
          "data": {
            "text/plain": [
              "{'bool': 1, 'dict': 2, 'int': 2, 'list': 1, 'set': 1, 'str': 3, 'tuple': 1}"
            ]
          },
          "metadata": {},
          "execution_count": 23
        }
      ]
    },
    {
      "cell_type": "code",
      "metadata": {
        "colab": {
          "base_uri": "https://localhost:8080/"
        },
        "id": "0UmnX3WokLg5",
        "outputId": "d83fc24b-28f5-4b34-901e-c466372f609c"
      },
      "source": [
        "a = input(\"Please write a sentence: \")\n",
        "print({i: a.count(i) for i in a})"
      ],
      "execution_count": 24,
      "outputs": [
        {
          "output_type": "stream",
          "name": "stdout",
          "text": [
            "Please write a sentence: haydi gel \n",
            "{'h': 1, 'a': 1, 'y': 1, 'd': 1, 'i': 1, ' ': 2, 'g': 1, 'e': 1, 'l': 1}\n"
          ]
        }
      ]
    },
    {
      "cell_type": "markdown",
      "metadata": {
        "id": "DtEXAqXhm_iC"
      },
      "source": [
        "OBEB (Ortak Katların En Büyüğü)"
      ]
    },
    {
      "cell_type": "code",
      "metadata": {
        "colab": {
          "base_uri": "https://localhost:8080/"
        },
        "id": "pKL_UW3klCQ9",
        "outputId": "2f30f6c8-d4c9-4923-e81d-72ccded94b40"
      },
      "source": [
        "sayi_1 = int(input(\"bir sayı giriniz :\"))\n",
        "sayi_2 = int(input(\"bir sayı giriniz :\"))\n",
        "a = []\n",
        "for i in range(1,sayi_1+1):\n",
        "  a1 = sayi_1 % i\n",
        "  for n in range(1,sayi_2+1) : \n",
        "    a2 = sayi_2 % n\n",
        "    if a1 == 0 and a2==0 :\n",
        "      if i == n :\n",
        "        a.append(i)\n",
        "   \n",
        "max(a)"
      ],
      "execution_count": 25,
      "outputs": [
        {
          "name": "stdout",
          "output_type": "stream",
          "text": [
            "bir sayı giriniz :25\n",
            "bir sayı giriniz :35\n"
          ]
        },
        {
          "output_type": "execute_result",
          "data": {
            "text/plain": [
              "5"
            ]
          },
          "metadata": {},
          "execution_count": 25
        }
      ]
    },
    {
      "cell_type": "code",
      "metadata": {
        "colab": {
          "base_uri": "https://localhost:8080/"
        },
        "id": "8C1URWKKsmKF",
        "outputId": "25b12d75-c3f8-4076-89b0-a1fdbeae5fd3"
      },
      "source": [
        "def obeb(a,b):\n",
        "    if b==0:\n",
        "        return a\n",
        "    else:\n",
        "        return obeb(b,a%b)\n",
        "def okek(a,b):\n",
        "    return int(a*b / obeb(a,b))\n",
        "    \n",
        "print(okek(65,25))\n",
        "print(obeb(65,25))"
      ],
      "execution_count": 26,
      "outputs": [
        {
          "output_type": "stream",
          "name": "stdout",
          "text": [
            "325\n",
            "5\n"
          ]
        }
      ]
    },
    {
      "cell_type": "code",
      "metadata": {
        "colab": {
          "base_uri": "https://localhost:8080/"
        },
        "id": "ge3is3rrwRPe",
        "outputId": "068d2814-6a10-43bb-914d-5aa9ae36dd6b"
      },
      "source": [
        "def facto(n):\n",
        "    if n==0: return 1\n",
        "    else :\n",
        "        return n*facto(n-1)\n",
        "facto(5)"
      ],
      "execution_count": 27,
      "outputs": [
        {
          "output_type": "execute_result",
          "data": {
            "text/plain": [
              "120"
            ]
          },
          "metadata": {},
          "execution_count": 27
        }
      ]
    },
    {
      "cell_type": "markdown",
      "metadata": {
        "id": "5Mhh-i9RzB0B"
      },
      "source": [
        "Given a list such [1,2,3] get all posiible output combinations"
      ]
    },
    {
      "cell_type": "code",
      "metadata": {
        "id": "-jev3bFoyNYl"
      },
      "source": [
        "solution=[[]]\n",
        "\n",
        "def combination(list):\n",
        "  \n"
      ],
      "execution_count": null,
      "outputs": []
    }
  ]
}